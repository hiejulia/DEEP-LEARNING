{
  "nbformat": 4,
  "nbformat_minor": 0,
  "metadata": {
    "colab": {
      "name": "mnist-MLP",
      "provenance": [],
      "collapsed_sections": []
    },
    "kernelspec": {
      "display_name": "Python 3",
      "name": "python3"
    },
    "accelerator": "GPU"
  },
  "cells": [
    {
      "cell_type": "code",
      "metadata": {
        "id": "oILRLCWN_16u"
      },
      "source": [
        "from __future__ import absolute_import\n",
        "from __future__ import division\n",
        "from __future__ import print_function"
      ],
      "execution_count": null,
      "outputs": []
    },
    {
      "cell_type": "code",
      "metadata": {
        "id": "0v6yxlWMayWe"
      },
      "source": [
        "import numpy as np\n",
        "from tensorflow.keras.models import Sequential\n",
        "from tensorflow.keras.layers import Dense, Activation, Dropout\n",
        "from tensorflow.keras.utils import to_categorical, plot_model\n",
        "from tensorflow.keras.datasets import mnist"
      ],
      "execution_count": null,
      "outputs": []
    },
    {
      "cell_type": "code",
      "metadata": {
        "id": "GtZze7v0ayhB",
        "outputId": "812d149d-7e50-4b38-dc88-28dfdc5103cd",
        "colab": {
          "base_uri": "https://localhost:8080/",
          "height": 51
        }
      },
      "source": [
        "(x_train, y_train), (x_test, y_test) = mnist.load_data()"
      ],
      "execution_count": null,
      "outputs": [
        {
          "output_type": "stream",
          "text": [
            "Downloading data from https://storage.googleapis.com/tensorflow/tf-keras-datasets/mnist.npz\n",
            "11493376/11490434 [==============================] - 0s 0us/step\n"
          ],
          "name": "stdout"
        }
      ]
    },
    {
      "cell_type": "code",
      "metadata": {
        "id": "GXE86bwvaykL"
      },
      "source": [
        "num_labels = len(np.unique(y_train))"
      ],
      "execution_count": null,
      "outputs": []
    },
    {
      "cell_type": "code",
      "metadata": {
        "id": "llZ_-YbKayol"
      },
      "source": [
        "# convert to one-hot vector\n",
        "y_train = to_categorical(y_train)\n",
        "y_test = to_categorical(y_test)"
      ],
      "execution_count": null,
      "outputs": []
    },
    {
      "cell_type": "code",
      "metadata": {
        "id": "4zWByjgWayta"
      },
      "source": [
        "# image dimensions (assumed square)\n",
        "image_size = x_train.shape[1]\n",
        "input_size = image_size * image_size"
      ],
      "execution_count": null,
      "outputs": []
    },
    {
      "cell_type": "code",
      "metadata": {
        "id": "6V-YsQpkayv9"
      },
      "source": [
        "# resize and normalize\n",
        "x_train = np.reshape(x_train, [-1, input_size])\n",
        "x_train = x_train.astype('float32') / 255\n",
        "x_test = np.reshape(x_test, [-1, input_size])\n",
        "x_test = x_test.astype('float32') / 255"
      ],
      "execution_count": null,
      "outputs": []
    },
    {
      "cell_type": "code",
      "metadata": {
        "id": "WsZu4rTWaysO"
      },
      "source": [
        "# network parameters\n",
        "batch_size = 128\n",
        "hidden_units = 256\n",
        "dropout = 0.45"
      ],
      "execution_count": null,
      "outputs": []
    },
    {
      "cell_type": "code",
      "metadata": {
        "id": "v5SSpZcxayms",
        "outputId": "da9a49a7-900b-42cf-f742-3a026d0299f2",
        "colab": {
          "base_uri": "https://localhost:8080/",
          "height": 425
        }
      },
      "source": [
        "# model is a 3-layer MLP with ReLU and dropout after each layer\n",
        "model = Sequential()\n",
        "model.add(Dense(hidden_units, input_dim=input_size))\n",
        "model.add(Activation('relu'))\n",
        "model.add(Dropout(dropout))\n",
        "model.add(Dense(hidden_units))\n",
        "model.add(Activation('relu'))\n",
        "model.add(Dropout(dropout))\n",
        "model.add(Dense(num_labels))\n",
        "# this is the output for one-hot vector\n",
        "model.add(Activation('softmax'))\n",
        "model.summary()"
      ],
      "execution_count": null,
      "outputs": [
        {
          "output_type": "stream",
          "text": [
            "Model: \"sequential\"\n",
            "_________________________________________________________________\n",
            "Layer (type)                 Output Shape              Param #   \n",
            "=================================================================\n",
            "dense (Dense)                (None, 256)               200960    \n",
            "_________________________________________________________________\n",
            "activation (Activation)      (None, 256)               0         \n",
            "_________________________________________________________________\n",
            "dropout (Dropout)            (None, 256)               0         \n",
            "_________________________________________________________________\n",
            "dense_1 (Dense)              (None, 256)               65792     \n",
            "_________________________________________________________________\n",
            "activation_1 (Activation)    (None, 256)               0         \n",
            "_________________________________________________________________\n",
            "dropout_1 (Dropout)          (None, 256)               0         \n",
            "_________________________________________________________________\n",
            "dense_2 (Dense)              (None, 10)                2570      \n",
            "_________________________________________________________________\n",
            "activation_2 (Activation)    (None, 10)                0         \n",
            "=================================================================\n",
            "Total params: 269,322\n",
            "Trainable params: 269,322\n",
            "Non-trainable params: 0\n",
            "_________________________________________________________________\n"
          ],
          "name": "stdout"
        }
      ]
    },
    {
      "cell_type": "code",
      "metadata": {
        "id": "5N8qWtm_gZaG",
        "outputId": "78168711-d7ff-487b-811c-b5188ac2cb4d",
        "colab": {
          "base_uri": "https://localhost:8080/",
          "height": 819
        }
      },
      "source": [
        "# enable this if pydot can be installed\n",
        "# pip install pydot\n",
        "#plot_model(model, to_file='mlp-mnist.png', show_shapes=True)\n",
        "\n",
        "# loss function for one-hot vector\n",
        "# use of adam optimizer\n",
        "# accuracy is good metric for classification tasks\n",
        "model.compile(loss='categorical_crossentropy',\n",
        "              optimizer='adam',\n",
        "              metrics=['accuracy'])\n",
        "# train the network\n",
        "model.fit(x_train, y_train, epochs=20, batch_size=batch_size)\n",
        "\n",
        "# validate the model on test dataset to determine generalization\n",
        "_, acc = model.evaluate(x_test,\n",
        "                        y_test,\n",
        "                        batch_size=batch_size,\n",
        "                        verbose=0)\n",
        "print(\"\\nTest accuracy: %.1f%%\" % (100.0 * acc))"
      ],
      "execution_count": null,
      "outputs": [
        {
          "output_type": "stream",
          "text": [
            "Train on 60000 samples\n",
            "Epoch 1/20\n",
            "WARNING:tensorflow:Entity <function Function._initialize_uninitialized_variables.<locals>.initialize_variables at 0x7f8f9046ef28> could not be transformed and will be executed as-is. Please report this to the AutoGraph team. When filing the bug, set the verbosity to 10 (on Linux, `export AUTOGRAPH_VERBOSITY=10`) and attach the full output. Cause: module 'gast' has no attribute 'Num'\n"
          ],
          "name": "stdout"
        },
        {
          "output_type": "stream",
          "text": [
            "WARNING:tensorflow:Entity <function Function._initialize_uninitialized_variables.<locals>.initialize_variables at 0x7f8f9046ef28> could not be transformed and will be executed as-is. Please report this to the AutoGraph team. When filing the bug, set the verbosity to 10 (on Linux, `export AUTOGRAPH_VERBOSITY=10`) and attach the full output. Cause: module 'gast' has no attribute 'Num'\n"
          ],
          "name": "stderr"
        },
        {
          "output_type": "stream",
          "text": [
            "WARNING: Entity <function Function._initialize_uninitialized_variables.<locals>.initialize_variables at 0x7f8f9046ef28> could not be transformed and will be executed as-is. Please report this to the AutoGraph team. When filing the bug, set the verbosity to 10 (on Linux, `export AUTOGRAPH_VERBOSITY=10`) and attach the full output. Cause: module 'gast' has no attribute 'Num'\n",
            "60000/60000 [==============================] - 4s 62us/sample - loss: 0.4162 - acc: 0.8715\n",
            "Epoch 2/20\n",
            "60000/60000 [==============================] - 2s 27us/sample - loss: 0.1922 - acc: 0.9428\n",
            "Epoch 3/20\n",
            "60000/60000 [==============================] - 2s 26us/sample - loss: 0.1506 - acc: 0.9549\n",
            "Epoch 4/20\n",
            "60000/60000 [==============================] - 2s 26us/sample - loss: 0.1287 - acc: 0.9611\n",
            "Epoch 5/20\n",
            "60000/60000 [==============================] - 2s 26us/sample - loss: 0.1134 - acc: 0.9651\n",
            "Epoch 6/20\n",
            "60000/60000 [==============================] - 2s 27us/sample - loss: 0.1035 - acc: 0.9681\n",
            "Epoch 7/20\n",
            "60000/60000 [==============================] - 2s 26us/sample - loss: 0.0936 - acc: 0.9719\n",
            "Epoch 8/20\n",
            "60000/60000 [==============================] - 2s 27us/sample - loss: 0.0876 - acc: 0.9732\n",
            "Epoch 9/20\n",
            "60000/60000 [==============================] - 2s 28us/sample - loss: 0.0798 - acc: 0.9740\n",
            "Epoch 10/20\n",
            "60000/60000 [==============================] - 2s 26us/sample - loss: 0.0785 - acc: 0.9753\n",
            "Epoch 11/20\n",
            "60000/60000 [==============================] - 2s 27us/sample - loss: 0.0714 - acc: 0.9769\n",
            "Epoch 12/20\n",
            "60000/60000 [==============================] - 2s 27us/sample - loss: 0.0704 - acc: 0.9773\n",
            "Epoch 13/20\n",
            "60000/60000 [==============================] - 2s 26us/sample - loss: 0.0677 - acc: 0.9777\n",
            "Epoch 14/20\n",
            "60000/60000 [==============================] - 2s 26us/sample - loss: 0.0631 - acc: 0.9796\n",
            "Epoch 15/20\n",
            "60000/60000 [==============================] - 2s 26us/sample - loss: 0.0626 - acc: 0.9803\n",
            "Epoch 16/20\n",
            "60000/60000 [==============================] - 2s 27us/sample - loss: 0.0589 - acc: 0.9815\n",
            "Epoch 17/20\n",
            "60000/60000 [==============================] - 2s 26us/sample - loss: 0.0559 - acc: 0.9825\n",
            "Epoch 18/20\n",
            "60000/60000 [==============================] - 2s 27us/sample - loss: 0.0591 - acc: 0.9803\n",
            "Epoch 19/20\n",
            "60000/60000 [==============================] - 2s 27us/sample - loss: 0.0530 - acc: 0.9826\n",
            "Epoch 20/20\n",
            "60000/60000 [==============================] - 2s 28us/sample - loss: 0.0530 - acc: 0.9830\n",
            "\n",
            "Test accuracy: 98.2%\n"
          ],
          "name": "stdout"
        }
      ]
    },
    {
      "cell_type": "code",
      "metadata": {
        "id": "kTv_wxTZgZkN"
      },
      "source": [
        ""
      ],
      "execution_count": null,
      "outputs": []
    }
  ]
}