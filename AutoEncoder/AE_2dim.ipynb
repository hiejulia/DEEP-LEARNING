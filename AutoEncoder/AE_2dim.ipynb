{
  "nbformat": 4,
  "nbformat_minor": 0,
  "metadata": {
    "colab": {
      "name": "AE-2dim",
      "provenance": [],
      "collapsed_sections": []
    },
    "kernelspec": {
      "display_name": "Python 3",
      "name": "python3"
    },
    "accelerator": "TPU"
  },
  "cells": [
    {
      "cell_type": "code",
      "metadata": {
        "id": "kTv_wxTZgZkN",
        "outputId": "05936ff0-b7e5-4aa7-8fb2-bb3a7ddd917d",
        "colab": {
          "base_uri": "https://localhost:8080/",
          "height": 54
        }
      },
      "source": [
        "from google.colab import drive\n",
        "drive.mount('/content/gdrive')"
      ],
      "execution_count": 10,
      "outputs": [
        {
          "output_type": "stream",
          "text": [
            "Drive already mounted at /content/gdrive; to attempt to forcibly remount, call drive.mount(\"/content/gdrive\", force_remount=True).\n"
          ],
          "name": "stdout"
        }
      ]
    },
    {
      "cell_type": "code",
      "metadata": {
        "id": "jGgHH_wGvABn",
        "outputId": "7372d872-c2bb-4768-a500-10508cc57b81",
        "colab": {
          "base_uri": "https://localhost:8080/",
          "height": 51
        }
      },
      "source": [
        "%cd gdrive/My\\ Drive/Colab\\ Notebooks"
      ],
      "execution_count": 11,
      "outputs": [
        {
          "output_type": "stream",
          "text": [
            "[Errno 2] No such file or directory: 'gdrive/My Drive/Colab Notebooks'\n",
            "/content/gdrive/My Drive/Colab Notebooks\n"
          ],
          "name": "stdout"
        }
      ]
    },
    {
      "cell_type": "code",
      "metadata": {
        "id": "ejT5MdX-veUV",
        "outputId": "bfb54f46-0a59-4193-d5ed-9faf4aa3ee0c",
        "colab": {
          "base_uri": "https://localhost:8080/",
          "height": 1000
        }
      },
      "source": [
        "!python autoencoder-2dim-mnist.py"
      ],
      "execution_count": 12,
      "outputs": [
        {
          "output_type": "stream",
          "text": [
            "2020-10-11 11:27:06.614709: I tensorflow/stream_executor/platform/default/dso_loader.cc:48] Successfully opened dynamic library libcudart.so.10.1\n",
            "2020-10-11 11:27:08.750029: I tensorflow/stream_executor/platform/default/dso_loader.cc:48] Successfully opened dynamic library libcuda.so.1\n",
            "2020-10-11 11:27:08.760949: E tensorflow/stream_executor/cuda/cuda_driver.cc:314] failed call to cuInit: CUDA_ERROR_NO_DEVICE: no CUDA-capable device is detected\n",
            "2020-10-11 11:27:08.761003: I tensorflow/stream_executor/cuda/cuda_diagnostics.cc:156] kernel driver does not appear to be running on this host (d9ad204616f3): /proc/driver/nvidia/version does not exist\n",
            "2020-10-11 11:27:08.766924: I tensorflow/core/platform/profile_utils/cpu_utils.cc:104] CPU Frequency: 2250000000 Hz\n",
            "2020-10-11 11:27:08.767251: I tensorflow/compiler/xla/service/service.cc:168] XLA service 0x2360840 initialized for platform Host (this does not guarantee that XLA will be used). Devices:\n",
            "2020-10-11 11:27:08.767276: I tensorflow/compiler/xla/service/service.cc:176]   StreamExecutor device (0): Host, Default Version\n",
            "Model: \"encoder\"\n",
            "_________________________________________________________________\n",
            "Layer (type)                 Output Shape              Param #   \n",
            "=================================================================\n",
            "encoder_input (InputLayer)   [(None, 28, 28, 1)]       0         \n",
            "_________________________________________________________________\n",
            "conv2d (Conv2D)              (None, 14, 14, 32)        320       \n",
            "_________________________________________________________________\n",
            "conv2d_1 (Conv2D)            (None, 7, 7, 64)          18496     \n",
            "_________________________________________________________________\n",
            "flatten (Flatten)            (None, 3136)              0         \n",
            "_________________________________________________________________\n",
            "latent_vector (Dense)        (None, 2)                 6274      \n",
            "=================================================================\n",
            "Total params: 25,090\n",
            "Trainable params: 25,090\n",
            "Non-trainable params: 0\n",
            "_________________________________________________________________\n",
            "Model: \"decoder\"\n",
            "_________________________________________________________________\n",
            "Layer (type)                 Output Shape              Param #   \n",
            "=================================================================\n",
            "decoder_input (InputLayer)   [(None, 2)]               0         \n",
            "_________________________________________________________________\n",
            "dense (Dense)                (None, 3136)              9408      \n",
            "_________________________________________________________________\n",
            "reshape (Reshape)            (None, 7, 7, 64)          0         \n",
            "_________________________________________________________________\n",
            "conv2d_transpose (Conv2DTran (None, 14, 14, 64)        36928     \n",
            "_________________________________________________________________\n",
            "conv2d_transpose_1 (Conv2DTr (None, 28, 28, 32)        18464     \n",
            "_________________________________________________________________\n",
            "decoder_output (Conv2DTransp (None, 28, 28, 1)         289       \n",
            "=================================================================\n",
            "Total params: 65,089\n",
            "Trainable params: 65,089\n",
            "Non-trainable params: 0\n",
            "_________________________________________________________________\n",
            "Model: \"autoencoder\"\n",
            "_________________________________________________________________\n",
            "Layer (type)                 Output Shape              Param #   \n",
            "=================================================================\n",
            "encoder_input (InputLayer)   [(None, 28, 28, 1)]       0         \n",
            "_________________________________________________________________\n",
            "encoder (Functional)         (None, 2)                 25090     \n",
            "_________________________________________________________________\n",
            "decoder (Functional)         (None, 28, 28, 1)         65089     \n",
            "=================================================================\n",
            "Total params: 90,179\n",
            "Trainable params: 90,179\n",
            "Non-trainable params: 0\n",
            "_________________________________________________________________\n",
            "Epoch 1/20\n",
            "1875/1875 [==============================] - 99s 53ms/step - loss: 0.0549 - val_loss: 0.0493\n",
            "Epoch 2/20\n",
            "1875/1875 [==============================] - 94s 50ms/step - loss: 0.0480 - val_loss: 0.0469\n",
            "Epoch 3/20\n",
            "1875/1875 [==============================] - 96s 51ms/step - loss: 0.0464 - val_loss: 0.0457\n",
            "Epoch 4/20\n",
            "1875/1875 [==============================] - 99s 53ms/step - loss: 0.0454 - val_loss: 0.0448\n",
            "Epoch 5/20\n",
            "1875/1875 [==============================] - 100s 53ms/step - loss: 0.0447 - val_loss: 0.0445\n",
            "Epoch 6/20\n",
            "1875/1875 [==============================] - 100s 53ms/step - loss: 0.0442 - val_loss: 0.0439\n",
            "Epoch 7/20\n",
            "1875/1875 [==============================] - 99s 53ms/step - loss: 0.0438 - val_loss: 0.0437\n",
            "Epoch 8/20\n",
            "1875/1875 [==============================] - 101s 54ms/step - loss: 0.0435 - val_loss: 0.0436\n",
            "Epoch 9/20\n",
            "1875/1875 [==============================] - 99s 53ms/step - loss: 0.0433 - val_loss: 0.0434\n",
            "Epoch 10/20\n",
            "1875/1875 [==============================] - 103s 55ms/step - loss: 0.0431 - val_loss: 0.0434\n",
            "Epoch 11/20\n",
            "1875/1875 [==============================] - 105s 56ms/step - loss: 0.0429 - val_loss: 0.0431\n",
            "Epoch 12/20\n",
            "1875/1875 [==============================] - 106s 57ms/step - loss: 0.0427 - val_loss: 0.0429\n",
            "Epoch 13/20\n",
            "1875/1875 [==============================] - 108s 57ms/step - loss: 0.0425 - val_loss: 0.0429\n",
            "Epoch 14/20\n",
            "1875/1875 [==============================] - 104s 55ms/step - loss: 0.0424 - val_loss: 0.0427\n",
            "Epoch 15/20\n",
            "1875/1875 [==============================] - 104s 55ms/step - loss: 0.0423 - val_loss: 0.0424\n",
            "Epoch 16/20\n",
            "1875/1875 [==============================] - 104s 55ms/step - loss: 0.0422 - val_loss: 0.0427\n",
            "Epoch 17/20\n",
            "1875/1875 [==============================] - 105s 56ms/step - loss: 0.0420 - val_loss: 0.0426\n",
            "Epoch 18/20\n",
            "1875/1875 [==============================] - 105s 56ms/step - loss: 0.0419 - val_loss: 0.0423\n",
            "Epoch 19/20\n",
            "1875/1875 [==============================] - 104s 55ms/step - loss: 0.0419 - val_loss: 0.0423\n",
            "Epoch 20/20\n",
            "1875/1875 [==============================] - 101s 54ms/step - loss: 0.0418 - val_loss: 0.0421\n",
            "<Figure size 640x480 with 1 Axes>\n",
            "<Figure size 1200x1000 with 1 Axes>\n",
            "<Figure size 1000x1000 with 1 Axes>\n"
          ],
          "name": "stdout"
        }
      ]
    },
    {
      "cell_type": "code",
      "metadata": {
        "id": "qlqmHwUkIAss"
      },
      "source": [
        ""
      ],
      "execution_count": null,
      "outputs": []
    },
    {
      "cell_type": "code",
      "metadata": {
        "id": "lA7vL1YMvefr"
      },
      "source": [
        ""
      ],
      "execution_count": null,
      "outputs": []
    }
  ]
}