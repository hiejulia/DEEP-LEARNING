{
  "nbformat": 4,
  "nbformat_minor": 0,
  "metadata": {
    "colab": {
      "name": "AE-colorization",
      "provenance": [],
      "collapsed_sections": []
    },
    "kernelspec": {
      "display_name": "Python 3",
      "name": "python3"
    },
    "accelerator": "TPU"
  },
  "cells": [
    {
      "cell_type": "code",
      "metadata": {
        "id": "kTv_wxTZgZkN",
        "outputId": "5d06ab01-78df-49de-b753-d02d8caf4cb3",
        "colab": {
          "base_uri": "https://localhost:8080/",
          "height": 54
        }
      },
      "source": [
        "from google.colab import drive\n",
        "drive.mount('/content/gdrive')"
      ],
      "execution_count": 17,
      "outputs": [
        {
          "output_type": "stream",
          "text": [
            "Drive already mounted at /content/gdrive; to attempt to forcibly remount, call drive.mount(\"/content/gdrive\", force_remount=True).\n"
          ],
          "name": "stdout"
        }
      ]
    },
    {
      "cell_type": "code",
      "metadata": {
        "id": "jGgHH_wGvABn",
        "outputId": "916518ed-95e2-4769-a579-78588918e97b",
        "colab": {
          "base_uri": "https://localhost:8080/",
          "height": 51
        }
      },
      "source": [
        "%cd gdrive/My\\ Drive/Colab\\ Notebooks"
      ],
      "execution_count": 18,
      "outputs": [
        {
          "output_type": "stream",
          "text": [
            "[Errno 2] No such file or directory: 'gdrive/My Drive/Colab Notebooks'\n",
            "/content/gdrive/My Drive/Colab Notebooks\n"
          ],
          "name": "stdout"
        }
      ]
    },
    {
      "cell_type": "code",
      "metadata": {
        "id": "ejT5MdX-veUV",
        "outputId": "13b38951-2389-4001-c315-43a81bfea2b8",
        "colab": {
          "base_uri": "https://localhost:8080/",
          "height": 1000
        }
      },
      "source": [
        "!python colorization-autoencoder-cifar.py"
      ],
      "execution_count": null,
      "outputs": [
        {
          "output_type": "stream",
          "text": [
            "2020-10-11 13:05:40.125719: I tensorflow/stream_executor/platform/default/dso_loader.cc:48] Successfully opened dynamic library libcudart.so.10.1\n",
            "<Figure size 640x480 with 1 Axes>\n",
            "tcmalloc: large alloc 1228800000 bytes == 0x10e02000 @  0x7faa8b0c11e7 0x7faa8785d5e1 0x7faa878c1c78 0x7faa878c3ff6 0x7faa878c4682 0x7faa878c4b3e 0x7faa87954a75 0x7faa8795955a 0x567193 0x59fe1e 0x7faa878ad4ed 0x50a47f 0x50c1f4 0x507f24 0x509c50 0x50a64d 0x50c1f4 0x509918 0x50a64d 0x50c1f4 0x507f24 0x50b053 0x634dd2 0x634e87 0x63863f 0x6391e1 0x4b0dc0 0x7faa8acbeb97 0x5b26fa\n",
            "<Figure size 640x480 with 1 Axes>\n",
            "2020-10-11 13:05:44.032348: I tensorflow/stream_executor/platform/default/dso_loader.cc:48] Successfully opened dynamic library libcuda.so.1\n",
            "2020-10-11 13:05:44.040814: E tensorflow/stream_executor/cuda/cuda_driver.cc:314] failed call to cuInit: CUDA_ERROR_NO_DEVICE: no CUDA-capable device is detected\n",
            "2020-10-11 13:05:44.040858: I tensorflow/stream_executor/cuda/cuda_diagnostics.cc:156] kernel driver does not appear to be running on this host (d9ad204616f3): /proc/driver/nvidia/version does not exist\n",
            "2020-10-11 13:05:44.046048: I tensorflow/core/platform/profile_utils/cpu_utils.cc:104] CPU Frequency: 2250000000 Hz\n",
            "2020-10-11 13:05:44.046285: I tensorflow/compiler/xla/service/service.cc:168] XLA service 0x19df100 initialized for platform Host (this does not guarantee that XLA will be used). Devices:\n",
            "2020-10-11 13:05:44.046325: I tensorflow/compiler/xla/service/service.cc:176]   StreamExecutor device (0): Host, Default Version\n",
            "Model: \"encoder\"\n",
            "_________________________________________________________________\n",
            "Layer (type)                 Output Shape              Param #   \n",
            "=================================================================\n",
            "encoder_input (InputLayer)   [(None, 32, 32, 1)]       0         \n",
            "_________________________________________________________________\n",
            "conv2d (Conv2D)              (None, 16, 16, 64)        640       \n",
            "_________________________________________________________________\n",
            "conv2d_1 (Conv2D)            (None, 8, 8, 128)         73856     \n",
            "_________________________________________________________________\n",
            "conv2d_2 (Conv2D)            (None, 4, 4, 256)         295168    \n",
            "_________________________________________________________________\n",
            "flatten (Flatten)            (None, 4096)              0         \n",
            "_________________________________________________________________\n",
            "latent_vector (Dense)        (None, 256)               1048832   \n",
            "=================================================================\n",
            "Total params: 1,418,496\n",
            "Trainable params: 1,418,496\n",
            "Non-trainable params: 0\n",
            "_________________________________________________________________\n",
            "Model: \"decoder\"\n",
            "_________________________________________________________________\n",
            "Layer (type)                 Output Shape              Param #   \n",
            "=================================================================\n",
            "decoder_input (InputLayer)   [(None, 256)]             0         \n",
            "_________________________________________________________________\n",
            "dense (Dense)                (None, 4096)              1052672   \n",
            "_________________________________________________________________\n",
            "reshape (Reshape)            (None, 4, 4, 256)         0         \n",
            "_________________________________________________________________\n",
            "conv2d_transpose (Conv2DTran (None, 8, 8, 256)         590080    \n",
            "_________________________________________________________________\n",
            "conv2d_transpose_1 (Conv2DTr (None, 16, 16, 128)       295040    \n",
            "_________________________________________________________________\n",
            "conv2d_transpose_2 (Conv2DTr (None, 32, 32, 64)        73792     \n",
            "_________________________________________________________________\n",
            "decoder_output (Conv2DTransp (None, 32, 32, 3)         1731      \n",
            "=================================================================\n",
            "Total params: 2,013,315\n",
            "Trainable params: 2,013,315\n",
            "Non-trainable params: 0\n",
            "_________________________________________________________________\n",
            "Model: \"autoencoder\"\n",
            "_________________________________________________________________\n",
            "Layer (type)                 Output Shape              Param #   \n",
            "=================================================================\n",
            "encoder_input (InputLayer)   [(None, 32, 32, 1)]       0         \n",
            "_________________________________________________________________\n",
            "encoder (Functional)         (None, 256)               1418496   \n",
            "_________________________________________________________________\n",
            "decoder (Functional)         (None, 32, 32, 3)         2013315   \n",
            "=================================================================\n",
            "Total params: 3,431,811\n",
            "Trainable params: 3,431,811\n",
            "Non-trainable params: 0\n",
            "_________________________________________________________________\n",
            "Epoch 1/10\n",
            "1563/1563 [==============================] - ETA: 0s - loss: 0.0161\n",
            "Epoch 00001: val_loss improved from inf to 0.01144, saving model to /content/gdrive/My Drive/Colab Notebooks/saved_models/colorized_ae_model.001.h5\n",
            "1563/1563 [==============================] - 659s 422ms/step - loss: 0.0161 - val_loss: 0.0114\n",
            "Epoch 2/10\n",
            "1563/1563 [==============================] - ETA: 0s - loss: 0.0103\n",
            "Epoch 00002: val_loss improved from 0.01144 to 0.00960, saving model to /content/gdrive/My Drive/Colab Notebooks/saved_models/colorized_ae_model.002.h5\n",
            "1563/1563 [==============================] - 659s 422ms/step - loss: 0.0103 - val_loss: 0.0096\n",
            "Epoch 3/10\n",
            "1563/1563 [==============================] - ETA: 0s - loss: 0.0093\n",
            "Epoch 00003: val_loss improved from 0.00960 to 0.00892, saving model to /content/gdrive/My Drive/Colab Notebooks/saved_models/colorized_ae_model.003.h5\n",
            "1563/1563 [==============================] - 658s 421ms/step - loss: 0.0093 - val_loss: 0.0089\n",
            "Epoch 4/10\n",
            "1563/1563 [==============================] - ETA: 0s - loss: 0.0087\n",
            "Epoch 00004: val_loss improved from 0.00892 to 0.00848, saving model to /content/gdrive/My Drive/Colab Notebooks/saved_models/colorized_ae_model.004.h5\n",
            "1563/1563 [==============================] - 661s 423ms/step - loss: 0.0087 - val_loss: 0.0085\n",
            "Epoch 5/10\n",
            "1563/1563 [==============================] - ETA: 0s - loss: 0.0083\n",
            "Epoch 00005: val_loss improved from 0.00848 to 0.00828, saving model to /content/gdrive/My Drive/Colab Notebooks/saved_models/colorized_ae_model.005.h5\n",
            "1563/1563 [==============================] - 648s 414ms/step - loss: 0.0083 - val_loss: 0.0083\n",
            "Epoch 6/10\n",
            "1563/1563 [==============================] - ETA: 0s - loss: 0.0080\n",
            "Epoch 00006: val_loss improved from 0.00828 to 0.00818, saving model to /content/gdrive/My Drive/Colab Notebooks/saved_models/colorized_ae_model.006.h5\n",
            "1563/1563 [==============================] - 649s 415ms/step - loss: 0.0080 - val_loss: 0.0082\n",
            "Epoch 7/10\n",
            "1563/1563 [==============================] - ETA: 0s - loss: 0.0077\n",
            "Epoch 00007: val_loss improved from 0.00818 to 0.00782, saving model to /content/gdrive/My Drive/Colab Notebooks/saved_models/colorized_ae_model.007.h5\n",
            "1563/1563 [==============================] - 643s 411ms/step - loss: 0.0077 - val_loss: 0.0078\n",
            "Epoch 8/10\n",
            "1563/1563 [==============================] - ETA: 0s - loss: 0.0075\n",
            "Epoch 00008: val_loss did not improve from 0.00782\n",
            "1563/1563 [==============================] - 640s 410ms/step - loss: 0.0075 - val_loss: 0.0079\n",
            "Epoch 9/10\n",
            "1563/1563 [==============================] - ETA: 0s - loss: 0.0072\n",
            "Epoch 00009: val_loss did not improve from 0.00782\n",
            "1563/1563 [==============================] - 637s 408ms/step - loss: 0.0072 - val_loss: 0.0079\n",
            "Epoch 10/10\n",
            "1028/1563 [==================>...........] - ETA: 3:19 - loss: 0.0070"
          ],
          "name": "stdout"
        }
      ]
    },
    {
      "cell_type": "code",
      "metadata": {
        "id": "qlqmHwUkIAss"
      },
      "source": [
        ""
      ],
      "execution_count": null,
      "outputs": []
    },
    {
      "cell_type": "code",
      "metadata": {
        "id": "lA7vL1YMvefr"
      },
      "source": [
        ""
      ],
      "execution_count": null,
      "outputs": []
    }
  ]
}