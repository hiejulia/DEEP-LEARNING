{
 "cells": [
  {
   "cell_type": "code",
   "execution_count": null,
   "metadata": {},
   "outputs": [],
   "source": [
    "# 4D Dataset "
   ]
  },
  {
   "cell_type": "code",
   "execution_count": null,
   "metadata": {},
   "outputs": [],
   "source": [
    "# Input data\n",
    "\n",
    "import tensorflow as tf\n",
    "from sklearn import datasets\n",
    "import matplotlib.pyplot as plt\n",
    "from sklearn.preprocessing import StandardScaler\n",
    "\n",
    "# Load the dataset\n",
    "def getData():\n",
    "    data = datasets.load_iris()\n",
    "    data = data.data\n",
    "    scaler = StandardScaler()\n",
    "    X_train = scaler.fit_transform(data[0:75])\n",
    "    X_test = scaler.fit_transform(data[75:150])\n",
    "    return(X_train, X_test)\n",
    "\n",
    "# Train and Test Dataset\n",
    "X_train, X_test = getData()\n",
    "\n",
    "\n"
   ]
  },
  {
   "cell_type": "code",
   "execution_count": null,
   "metadata": {},
   "outputs": [],
   "source": [
    "# Linear Autoencoder Network\n",
    "\n",
    "\n",
    "# The parameters Initialization\n",
    "n_inputs = 4\n",
    "n_hidden = 2\n",
    "n_outputs = n_inputs\n",
    "learning_rate = 0.01\n",
    "\n",
    "# Adding the Layers\n",
    "X = tf.placeholder(tf.float32, shape = [None, n_inputs])\n",
    "hidden = tf.layers.dense(X, n_hidden)\n",
    "outputs = tf.layers.dense(hidden, n_outputs)\n",
    "\n",
    "# Calculating Loss and doing optimization\n",
    "reconstruction_loss = tf.reduce_mean(tf.square(outputs - X))\n",
    "optimizer = tf.train.AdamOptimizer(learning_rate)\n",
    "training_op = optimizer.minimize(reconstruction_loss)\n",
    "\n",
    "# Executing the Computational Graph\n",
    "init = tf.global_variables_initializer()\n",
    "n_iterations = 980\n",
    "codings = hidden\n",
    "with tf.Session() as sess:\n",
    "    init.run()\n",
    "    for iteration in range(n_iterations):\n",
    "        training_op.run(feed_dict = {X: X_train})\n",
    "        loss_train = reconstruction_loss.eval(feed_dict = {X: X_train})\n",
    "        print(iteration, \"\\tMSE: \", loss_train)\n",
    "    codings_val = codings.eval(feed_dict = {X: X_test})"
   ]
  },
  {
   "cell_type": "code",
   "execution_count": null,
   "metadata": {},
   "outputs": [],
   "source": [
    "# Plotting the Reduced Dimensional Data\n",
    "\n",
    "fig = plt.figure(figsize = (5,5))\n",
    "plt.plot(codings_val[:, 0], codings_val[:, 1], \"b. \")\n",
    "plt.xlabel(\"$c_1$\", fontsize = 18)\n",
    "plt.ylabel(\"$c_2$\", fontsize = 18, rotation = 0)\n",
    "plt.show()"
   ]
  }
 ],
 "metadata": {
  "kernelspec": {
   "display_name": "Python 3",
   "language": "python",
   "name": "python3"
  },
  "language_info": {
   "codemirror_mode": {
    "name": "ipython",
    "version": 3
   },
   "file_extension": ".py",
   "mimetype": "text/x-python",
   "name": "python",
   "nbconvert_exporter": "python",
   "pygments_lexer": "ipython3",
   "version": "3.7.6"
  }
 },
 "nbformat": 4,
 "nbformat_minor": 4
}
