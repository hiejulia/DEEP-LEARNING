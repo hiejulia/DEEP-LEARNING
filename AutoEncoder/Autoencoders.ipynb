{
 "cells": [
  {
   "cell_type": "code",
   "execution_count": null,
   "metadata": {},
   "outputs": [],
   "source": [
    "Input Data"
   ]
  },
  {
   "cell_type": "code",
   "execution_count": null,
   "metadata": {},
   "outputs": [],
   "source": [
    "from sklearn.datasets import fetch_lfw_people\n",
    "\n",
    "def dataGetter():\n",
    "    # Fetch the Data\n",
    "    lfw_people = fetch_lfw_people(min_faces_per_person = 70, resize = 0.4)\n",
    "    X = lfw_people.data\n",
    "    return(X)\n",
    "    \n",
    "def nextBatch(X, size):\n",
    "    # Get the random indexes as per the size\n",
    "    idx = np.random.choice(np.arange(len(X)), size, replace = False)\n",
    "    x_sample = X[idx]\n",
    "    return(x_sample)\n",
    "\n",
    "\n",
    "# Total Retreived Data\n",
    "dataX = dataGetter()\n",
    "\n",
    "# Train Data\n",
    "train_X = dataX[0:1281]\n",
    "\n",
    "# Testing Data\n",
    "test_X = dataX[1281:1289]"
   ]
  },
  {
   "cell_type": "code",
   "execution_count": null,
   "metadata": {},
   "outputs": [],
   "source": [
    "Deep Autoencoder Network"
   ]
  },
  {
   "cell_type": "code",
   "execution_count": null,
   "metadata": {},
   "outputs": [],
   "source": [
    "import tensorflow as tf\n",
    "from functools import partial\n",
    "\n",
    "# Reset the graph and create saver\n",
    "tf.reset_default_graph()\n",
    "\n",
    "# Initialize the parameters\n",
    "n_inputs = 50*37\n",
    "n_hidden1 = 1800\n",
    "n_hidden2 = 1750\n",
    "n_hidden3 = 1700\n",
    "n_hidden4 = 1650\n",
    "n_hidden5 = n_hidden3\n",
    "n_hidden6 = n_hidden2\n",
    "n_hidden7 = n_hidden1\n",
    "n_outputs = n_inputs\n",
    "learning_rate = 0.001\n",
    "l2_reg = 0.01\n",
    "\n",
    "# Placeholder to keep the input data\n",
    "X = tf.placeholder(tf.float32, shape = [None, n_inputs])\n",
    "\n",
    "X_noisy = X + tf.random_normal(tf.shape(X))\n",
    "\n",
    "# Adding the Layers\n",
    "he_init = tf.contrib.layers.variance_scaling_initializer()\n",
    "l2_regularizer = tf.contrib.layers.l2_regularizer(l2_reg)\n",
    "my_dense_layer = partial(tf.layers.dense, activation = tf.nn.relu, kernel_initializer = he_init,\n",
    "                        kernel_regularizer = l2_regularizer)\n",
    "hidden1 = my_dense_layer(X_noisy, n_hidden1)\n",
    "hidden2 = my_dense_layer(hidden1, n_hidden2)\n",
    "hidden3 = my_dense_layer(hidden2, n_hidden3)\n",
    "hidden4 = my_dense_layer(hidden3, n_hidden4)\n",
    "hidden5 = my_dense_layer(hidden4, n_hidden5)\n",
    "outputs = my_dense_layer(hidden5, n_outputs, activation = None)\n",
    "\n",
    "# Calculating Loss and doing optimization\n",
    "reconstruction_loss = tf.reduce_mean(tf.square(outputs - X))\n",
    "reg_losses = tf.get_collection(tf.GraphKeys.REGULARIZATION_LOSSES)\n",
    "loss = tf.add_n([reconstruction_loss] + reg_losses)\n",
    "optimizer = tf.train.AdamOptimizer(learning_rate)\n",
    "training_op = optimizer.minimize(loss)\n",
    "\n",
    "# Executing the Computational Graph\n",
    "init = tf.global_variables_initializer()\n",
    "\n",
    "saver = tf.train.Saver()\n",
    "\n",
    "n_epochs = 12000\n",
    "batch_size = 1200\n",
    "n_batches = 1\n",
    "with tf.Session() as sess:\n",
    "    init.run()\n",
    "    for epoch in range(n_epochs):\n",
    "        for iteration in range(n_batches):\n",
    "            X_batch = nextBatch(train_X, batch_size)\n",
    "            sess.run(training_op, feed_dict = {X: X_batch})\n",
    "            loss_train = reconstruction_loss.eval(feed_dict = {X: X_batch})\n",
    "        print(epoch, \"\\tMSE: \", loss_train)\n",
    "    saver.save(sess, \"./my_model_all_layers.ckpt\")\n"
   ]
  },
  {
   "cell_type": "code",
   "execution_count": null,
   "metadata": {},
   "outputs": [],
   "source": [
    "Plotting the Input and Ouput Data"
   ]
  },
  {
   "cell_type": "code",
   "execution_count": null,
   "metadata": {},
   "outputs": [],
   "source": [
    "n_digits = 2\n",
    "\n",
    "# To plot figures\n",
    "% matplotlib inline\n",
    "import matplotlib.pyplot as plt\n",
    "\n",
    "plt.rcParams['axes.labelsize'] = 14\n",
    "plt.rcParams['xtick.labelsize'] = 12\n",
    "plt.rcParams['ytick.labelsize'] = 12\n",
    "\n",
    "def plot_image(image, shape = [28, 28]):\n",
    "    plt.imshow(image.reshape(shape), cmap = \"Greys\", interpolation = \"nearest\")\n",
    "    plt.axis(\"off\")\n",
    "    \n",
    "with tf.Session() as sess:\n",
    "    saver.restore(sess, \"./my_model_all_layers.ckpt\")\n",
    "    X_test = mnist.test.images[:n_digits]\n",
    "    outputs_val = outputs.eval(feed_dict = {X :X_test})\n",
    "    fig = plt.figure(figsize = (8,6))\n",
    "    for index in range(n_digits):\n",
    "        plt.subplot(n_digits, 2, index *2 +1)\n",
    "        plot_image(X_test[index])\n",
    "        plt.subplot(n_digits, 2, index*2+2)\n",
    "        plot_image(outputs_val[index])"
   ]
  }
 ],
 "metadata": {
  "kernelspec": {
   "display_name": "Python 3",
   "language": "python",
   "name": "python3"
  },
  "language_info": {
   "codemirror_mode": {
    "name": "ipython",
    "version": 3
   },
   "file_extension": ".py",
   "mimetype": "text/x-python",
   "name": "python",
   "nbconvert_exporter": "python",
   "pygments_lexer": "ipython3",
   "version": "3.7.6"
  }
 },
 "nbformat": 4,
 "nbformat_minor": 4
}
