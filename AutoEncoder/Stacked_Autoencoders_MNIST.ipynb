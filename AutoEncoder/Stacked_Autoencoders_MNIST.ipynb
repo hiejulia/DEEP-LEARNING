{
 "cells": [
  {
   "cell_type": "code",
   "execution_count": null,
   "metadata": {},
   "outputs": [],
   "source": [
    "Stacked_Autoencoders_MNIST"
   ]
  },
  {
   "cell_type": "code",
   "execution_count": null,
   "metadata": {},
   "outputs": [],
   "source": [
    "# Input Data \n",
    "import tensorflow as tf\n",
    "import sys\n",
    "from tensorflow.examples.tutorials.mnist import input_data\n",
    "from functools import partial\n",
    "import matplotlib.pyplot as plt\n",
    "\n",
    "# Load the data\n",
    "mnist = input_data.read_data_sets(\"MNIST_data\")"
   ]
  },
  {
   "cell_type": "code",
   "execution_count": null,
   "metadata": {},
   "outputs": [],
   "source": [
    "# Stacked Autoencoder Network\n",
    "# Reset the graph and create saver\n",
    "tf.reset_default_graph()\n",
    "\n",
    "# Initialize the parameters\n",
    "n_inputs = 28*28\n",
    "n_hidden1 = 600\n",
    "n_hidden2 = 300\n",
    "n_hidden3 = n_hidden1\n",
    "n_outputs = n_inputs\n",
    "learning_rate = 0.01\n",
    "l2_reg = 0.0001\n",
    "\n",
    "# Placeholder to keep the input data\n",
    "X = tf.placeholder(tf.float32, shape = [None, n_inputs])\n",
    "\n",
    "# Adding the Layers\n",
    "he_init = tf.contrib.layers.variance_scaling_initializer()\n",
    "l2_regularizer = tf.contrib.layers.l2_regularizer(l2_reg)\n",
    "my_dense_layer = partial(tf.layers.dense, activation = tf.nn.relu, kernel_initializer = he_init,\n",
    "                        kernel_regularizer = l2_regularizer)\n",
    "hidden1 = my_dense_layer(X, n_hidden1)\n",
    "hidden2 = my_dense_layer(hidden1, n_hidden2)\n",
    "hidden3 = my_dense_layer(hidden2, n_hidden3)\n",
    "outputs = my_dense_layer(hidden3, n_outputs, activation = None)\n",
    "\n",
    "# Calculating Loss and doing optimization\n",
    "reconstruction_loss = tf.reduce_mean(tf.square(outputs - X))\n",
    "reg_losses = tf.get_collection(tf.GraphKeys.REGULARIZATION_LOSSES)\n",
    "loss = tf.add_n([reconstruction_loss] + reg_losses)\n",
    "optimizer = tf.train.AdamOptimizer(learning_rate)\n",
    "training_op = optimizer.minimize(loss)\n",
    "\n",
    "# Executing the Computational Graph\n",
    "init = tf.global_variables_initializer()\n",
    "\n",
    "saver = tf.train.Saver()\n",
    "\n",
    "n_epochs = 7\n",
    "batch_size = 150\n",
    "with tf.Session() as sess:\n",
    "    init.run()\n",
    "    for epoch in range(n_epochs):\n",
    "        n_batches = mnist.train.num_examples // batch_size\n",
    "        for iteration in range(n_batches):\n",
    "            X_batch, y_batch = mnist.train.next_batch(batch_size)\n",
    "            sess.run(training_op, feed_dict = {X: X_batch})\n",
    "            loss_train = reconstruction_loss.eval(feed_dict = {X: X_batch})\n",
    "        print(epoch, \"\\tMSE: \", loss_train)\n",
    "    saver.save(sess, \"./my_model_all_layers.ckpt\")\n"
   ]
  },
  {
   "cell_type": "code",
   "execution_count": null,
   "metadata": {},
   "outputs": [],
   "source": [
    "# Plotting the Input and Ouput Data\n",
    "n_digits = 2\n",
    "\n",
    "# To plot figures\n",
    "% matplotlib inline\n",
    "import matplotlib.pyplot as plt\n",
    "\n",
    "plt.rcParams['axes.labelsize'] = 14\n",
    "plt.rcParams['xtick.labelsize'] = 12\n",
    "plt.rcParams['ytick.labelsize'] = 12\n",
    "\n",
    "def plot_image(image, shape = [28, 28]):\n",
    "    plt.imshow(image.reshape(shape), cmap = \"Greys\", interpolation = \"nearest\")\n",
    "    plt.axis(\"off\")\n",
    "    \n",
    "with tf.Session() as sess:\n",
    "    saver.restore(sess, \"./my_model_all_layers.ckpt\")\n",
    "    X_test = mnist.test.images[:n_digits]\n",
    "    outputs_val = outputs.eval(feed_dict = {X :X_test})\n",
    "    fig = plt.figure(figsize = (8,6))\n",
    "    for index in range(n_digits):\n",
    "        plt.subplot(n_digits, 2, index *2 +1)\n",
    "        plot_image(X_test[index])\n",
    "        plt.subplot(n_digits, 2, index*2+2)\n",
    "        plot_image(outputs_val[index])"
   ]
  },
  {
   "cell_type": "code",
   "execution_count": null,
   "metadata": {},
   "outputs": [],
   "source": []
  },
  {
   "cell_type": "code",
   "execution_count": null,
   "metadata": {},
   "outputs": [],
   "source": []
  }
 ],
 "metadata": {
  "kernelspec": {
   "display_name": "Python 3",
   "language": "python",
   "name": "python3"
  },
  "language_info": {
   "codemirror_mode": {
    "name": "ipython",
    "version": 3
   },
   "file_extension": ".py",
   "mimetype": "text/x-python",
   "name": "python",
   "nbconvert_exporter": "python",
   "pygments_lexer": "ipython3",
   "version": "3.7.6"
  }
 },
 "nbformat": 4,
 "nbformat_minor": 4
}
