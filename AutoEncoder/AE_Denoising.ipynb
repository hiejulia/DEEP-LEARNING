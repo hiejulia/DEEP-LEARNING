{
  "nbformat": 4,
  "nbformat_minor": 0,
  "metadata": {
    "colab": {
      "name": "AE-Denoising",
      "provenance": [],
      "collapsed_sections": []
    },
    "kernelspec": {
      "display_name": "Python 3",
      "name": "python3"
    },
    "accelerator": "TPU"
  },
  "cells": [
    {
      "cell_type": "code",
      "metadata": {
        "id": "kTv_wxTZgZkN",
        "outputId": "05936ff0-b7e5-4aa7-8fb2-bb3a7ddd917d",
        "colab": {
          "base_uri": "https://localhost:8080/",
          "height": 54
        }
      },
      "source": [
        "from google.colab import drive\n",
        "drive.mount('/content/gdrive')"
      ],
      "execution_count": 10,
      "outputs": [
        {
          "output_type": "stream",
          "text": [
            "Drive already mounted at /content/gdrive; to attempt to forcibly remount, call drive.mount(\"/content/gdrive\", force_remount=True).\n"
          ],
          "name": "stdout"
        }
      ]
    },
    {
      "cell_type": "code",
      "metadata": {
        "id": "jGgHH_wGvABn",
        "outputId": "7372d872-c2bb-4768-a500-10508cc57b81",
        "colab": {
          "base_uri": "https://localhost:8080/",
          "height": 51
        }
      },
      "source": [
        "%cd gdrive/My\\ Drive/Colab\\ Notebooks"
      ],
      "execution_count": 11,
      "outputs": [
        {
          "output_type": "stream",
          "text": [
            "[Errno 2] No such file or directory: 'gdrive/My Drive/Colab Notebooks'\n",
            "/content/gdrive/My Drive/Colab Notebooks\n"
          ],
          "name": "stdout"
        }
      ]
    },
    {
      "cell_type": "code",
      "metadata": {
        "id": "ejT5MdX-veUV",
        "outputId": "ff99ca6d-06a0-4a83-987e-7780dc369244",
        "colab": {
          "base_uri": "https://localhost:8080/",
          "height": 1000
        }
      },
      "source": [
        "!python denoising-autoencoder-mnist.py"
      ],
      "execution_count": 13,
      "outputs": [
        {
          "output_type": "stream",
          "text": [
            "2020-10-11 12:17:27.945642: I tensorflow/stream_executor/platform/default/dso_loader.cc:48] Successfully opened dynamic library libcudart.so.10.1\n",
            "2020-10-11 12:17:32.526098: I tensorflow/stream_executor/platform/default/dso_loader.cc:48] Successfully opened dynamic library libcuda.so.1\n",
            "2020-10-11 12:17:32.535533: E tensorflow/stream_executor/cuda/cuda_driver.cc:314] failed call to cuInit: CUDA_ERROR_NO_DEVICE: no CUDA-capable device is detected\n",
            "2020-10-11 12:17:32.535593: I tensorflow/stream_executor/cuda/cuda_diagnostics.cc:156] kernel driver does not appear to be running on this host (d9ad204616f3): /proc/driver/nvidia/version does not exist\n",
            "2020-10-11 12:17:32.540964: I tensorflow/core/platform/profile_utils/cpu_utils.cc:104] CPU Frequency: 2250000000 Hz\n",
            "2020-10-11 12:17:32.541208: I tensorflow/compiler/xla/service/service.cc:168] XLA service 0x1a58840 initialized for platform Host (this does not guarantee that XLA will be used). Devices:\n",
            "2020-10-11 12:17:32.541233: I tensorflow/compiler/xla/service/service.cc:176]   StreamExecutor device (0): Host, Default Version\n",
            "Model: \"encoder\"\n",
            "_________________________________________________________________\n",
            "Layer (type)                 Output Shape              Param #   \n",
            "=================================================================\n",
            "encoder_input (InputLayer)   [(None, 28, 28, 1)]       0         \n",
            "_________________________________________________________________\n",
            "conv2d (Conv2D)              (None, 14, 14, 32)        320       \n",
            "_________________________________________________________________\n",
            "conv2d_1 (Conv2D)            (None, 7, 7, 64)          18496     \n",
            "_________________________________________________________________\n",
            "flatten (Flatten)            (None, 3136)              0         \n",
            "_________________________________________________________________\n",
            "latent_vector (Dense)        (None, 16)                50192     \n",
            "=================================================================\n",
            "Total params: 69,008\n",
            "Trainable params: 69,008\n",
            "Non-trainable params: 0\n",
            "_________________________________________________________________\n",
            "Model: \"decoder\"\n",
            "_________________________________________________________________\n",
            "Layer (type)                 Output Shape              Param #   \n",
            "=================================================================\n",
            "decoder_input (InputLayer)   [(None, 16)]              0         \n",
            "_________________________________________________________________\n",
            "dense (Dense)                (None, 3136)              53312     \n",
            "_________________________________________________________________\n",
            "reshape (Reshape)            (None, 7, 7, 64)          0         \n",
            "_________________________________________________________________\n",
            "conv2d_transpose (Conv2DTran (None, 14, 14, 64)        36928     \n",
            "_________________________________________________________________\n",
            "conv2d_transpose_1 (Conv2DTr (None, 28, 28, 32)        18464     \n",
            "_________________________________________________________________\n",
            "decoder_output (Conv2DTransp (None, 28, 28, 1)         289       \n",
            "=================================================================\n",
            "Total params: 108,993\n",
            "Trainable params: 108,993\n",
            "Non-trainable params: 0\n",
            "_________________________________________________________________\n",
            "Model: \"autoencoder\"\n",
            "_________________________________________________________________\n",
            "Layer (type)                 Output Shape              Param #   \n",
            "=================================================================\n",
            "encoder_input (InputLayer)   [(None, 28, 28, 1)]       0         \n",
            "_________________________________________________________________\n",
            "encoder (Functional)         (None, 16)                69008     \n",
            "_________________________________________________________________\n",
            "decoder (Functional)         (None, 28, 28, 1)         108993    \n",
            "=================================================================\n",
            "Total params: 178,001\n",
            "Trainable params: 178,001\n",
            "Non-trainable params: 0\n",
            "_________________________________________________________________\n",
            "Epoch 1/10\n",
            "1875/1875 [==============================] - 99s 53ms/step - loss: 0.0373 - val_loss: 0.0207\n",
            "Epoch 2/10\n",
            "1875/1875 [==============================] - 97s 52ms/step - loss: 0.0194 - val_loss: 0.0184\n",
            "Epoch 3/10\n",
            "1875/1875 [==============================] - 97s 52ms/step - loss: 0.0177 - val_loss: 0.0177\n",
            "Epoch 4/10\n",
            "1875/1875 [==============================] - 96s 51ms/step - loss: 0.0170 - val_loss: 0.0168\n",
            "Epoch 5/10\n",
            "1875/1875 [==============================] - 97s 52ms/step - loss: 0.0165 - val_loss: 0.0166\n",
            "Epoch 6/10\n",
            "1875/1875 [==============================] - 98s 52ms/step - loss: 0.0161 - val_loss: 0.0162\n",
            "Epoch 7/10\n",
            "1875/1875 [==============================] - 99s 53ms/step - loss: 0.0158 - val_loss: 0.0161\n",
            "Epoch 8/10\n",
            "1875/1875 [==============================] - 101s 54ms/step - loss: 0.0156 - val_loss: 0.0158\n",
            "Epoch 9/10\n",
            "1875/1875 [==============================] - 98s 53ms/step - loss: 0.0154 - val_loss: 0.0159\n",
            "Epoch 10/10\n",
            "1875/1875 [==============================] - 104s 55ms/step - loss: 0.0152 - val_loss: 0.0157\n",
            "<Figure size 640x480 with 1 Axes>\n"
          ],
          "name": "stdout"
        }
      ]
    },
    {
      "cell_type": "code",
      "metadata": {
        "id": "qlqmHwUkIAss"
      },
      "source": [
        ""
      ],
      "execution_count": null,
      "outputs": []
    },
    {
      "cell_type": "code",
      "metadata": {
        "id": "lA7vL1YMvefr"
      },
      "source": [
        ""
      ],
      "execution_count": null,
      "outputs": []
    }
  ]
}