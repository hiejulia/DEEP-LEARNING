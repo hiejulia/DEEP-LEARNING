{
 "cells": [
  {
   "cell_type": "code",
   "execution_count": null,
   "metadata": {},
   "outputs": [],
   "source": [
    "import numpy as np\n",
    "import pickle\n",
    "from tqdm import tqdm, tqdm_notebook\n",
    "import random\n",
    "import time\n",
    "from sklearn.manifold import TSNE\n",
    "from sklearn.decomposition import PCA\n",
    "import PIL\n",
    "from PIL import Image\n",
    "from sklearn.neighbors import NearestNeighbors\n",
    "import random\n",
    "import glob\n",
    "\n",
    "import matplotlib\n",
    "import matplotlib.pyplot as plt\n",
    "import matplotlib.image as mpimg\n",
    "matplotlib.rcParams['savefig.dpi'] = 160\n",
    "matplotlib.rcParams['figure.dpi'] = 160\n",
    "%matplotlib notebook"
   ]
  },
  {
   "cell_type": "code",
   "execution_count": null,
   "metadata": {},
   "outputs": [],
   "source": [
    "filenames = pickle.load(open('data/filenames-caltech101.pickle', 'rb'))\n",
    "feature_list = pickle.load(open('data/features-caltech101-resnet.pickle',\n",
    "                                'rb'))\n",
    "class_ids = pickle.load(open('data/class_ids-caltech101.pickle', 'rb'))"
   ]
  },
  {
   "cell_type": "code",
   "execution_count": null,
   "metadata": {},
   "outputs": [],
   "source": [
    "'''\n",
    "filenames = pickle.load(open('data/filenames-caltech256.pickle', 'rb'))\n",
    "feature_list = pickle.load(open('data/features-caltech256-resnet-finetuned.pickle', 'rb'))\n",
    "class_ids = pickle.load(open('data/class_ids-caltech256.pickle', 'rb'))\n",
    "'''"
   ]
  },
  {
   "cell_type": "code",
   "execution_count": null,
   "metadata": {},
   "outputs": [],
   "source": [
    "num_images = len(filenames)\n",
    "num_features_per_image = len(feature_list[0])\n",
    "print(\"Number of images = \", num_images)\n",
    "print(\"Number of features per image = \", num_features_per_image)"
   ]
  },
  {
   "cell_type": "code",
   "execution_count": null,
   "metadata": {},
   "outputs": [],
   "source": [
    "# Helper function to get the classname\n",
    "def classname(str):\n",
    "    return str.split('/')[-2]\n",
    "\n",
    "\n",
    "# Helper function to get the classname and filename\n",
    "def classname_filename(str):\n",
    "    return str.split('/')[-2] + '/' + str.split('/')[-1]\n",
    "\n",
    "\n",
    "# Helper function that calculates accuracy using the nearest neighbors brute force algorithm\n",
    "def calculate_accuracy(feature_list):\n",
    "    num_nearest_neighbors = 5\n",
    "    correct_prediction = 0\n",
    "    incorrect_prediction = 0\n",
    "    neighbors = NearestNeighbors(n_neighbors=num_nearest_neighbors,\n",
    "                                 algorithm='brute',\n",
    "                                 metric='euclidean').fit(feature_list)\n",
    "    start = time.time()\n",
    "    for i in range(len(feature_list)):\n",
    "        distances, indices = neighbors.kneighbors([feature_list[i]])\n",
    "        for j in range(1, num_nearest_neighbors):\n",
    "            if (classname(filenames[i]) == classname(\n",
    "                    filenames[indices[0][j]])):\n",
    "                correct_prediction += 1\n",
    "            else:\n",
    "                incorrect_prediction += 1\n",
    "    end = time.time()\n",
    "    accuracy = round(\n",
    "        100.0 * correct_prediction /\n",
    "        (1.0 * correct_prediction + incorrect_prediction), 2), end - start\n",
    "    return accuracy"
   ]
  },
  {
   "cell_type": "code",
   "execution_count": null,
   "metadata": {},
   "outputs": [],
   "source": [
    "print(\"Accuracy on original feature set : \",\n",
    "      calculate_accuracy(feature_list[:]))"
   ]
  },
  {
   "cell_type": "code",
   "execution_count": null,
   "metadata": {
    "scrolled": false
   },
   "outputs": [],
   "source": [
    "pca_dimensions = [1, 2, 3, 4, 5, 10, 20, 50, 75, 100, 150, 200]\n",
    "pca_accuracy = []\n",
    "pca_time = []\n",
    "\n",
    "for dimensions in pca_dimensions:\n",
    "    pca = PCA(n_components=dimensions)\n",
    "    pca.fit(feature_list)\n",
    "    feature_list_compressed = pca.transform(feature_list[:])\n",
    "    # Calculate accuracy over the compressed features\n",
    "    accuracy, t = calculate_accuracy(feature_list_compressed[:])\n",
    "    pca_time.append(t)\n",
    "    pca_accuracy.append(accuracy)\n",
    "    print(\"For PCA Dimensions = \", dimensions, \",\\tAccuracy = \", accuracy, \"%\",\n",
    "          \",\\tTime = \", pca_time[-1])"
   ]
  },
  {
   "cell_type": "markdown",
   "metadata": {},
   "source": [
    "Let's plot the test time accuracy for each PCA dimension."
   ]
  },
  {
   "cell_type": "code",
   "execution_count": null,
   "metadata": {
    "scrolled": false
   },
   "outputs": [],
   "source": [
    "f = plt.figure()\n",
    "\n",
    "matplotlib.style.use('seaborn')\n",
    "plt.plot(pca_time, pca_accuracy, 'o--', markersize=5)\n",
    "for label, x, y in zip(pca_dimensions, pca_time, pca_accuracy):\n",
    "    plt.annotate(label, xy=(x, y), ha='right', va='bottom')\n",
    "plt.title('Test Time vs Accuracy for each PCA dimension')\n",
    "plt.xlabel('Test Time')\n",
    "plt.ylabel('Accuracy')\n",
    "plt.grid(True)\n",
    "plt.show()\n",
    "\n",
    "f.savefig(\"pca-test_time_vs_acc.pdf\", bbox_inches='tight')\n",
    "f.savefig(\"pca-test_time_vs_acc.png\", bbox_inches='tight')"
   ]
  },
  {
   "cell_type": "code",
   "execution_count": null,
   "metadata": {},
   "outputs": [],
   "source": [
    "f.savefig('pca-test_time_vs_acc.pdf', bbox_inches='tight')\n",
    "f.savefig('pca-test_time_vs_acc.png', transparent=False, bbox_inches='tight')"
   ]
  },
  {
   "cell_type": "code",
   "execution_count": null,
   "metadata": {},
   "outputs": [],
   "source": [
    "f = plt.figure()\n",
    "\n",
    "matplotlib.style.use('seaborn')\n",
    "plt.plot(range(1, 201), pca.explained_variance_ratio_, 'o--', markersize=3)\n",
    "plt.title('Variance vs number of PCA dimensions')\n",
    "plt.xlabel('PCA Dimension Count')\n",
    "plt.ylabel('Variance')\n",
    "plt.grid(True)\n",
    "plt.show()\n",
    "\n",
    "f.savefig(\"Variance vs number of PCA dimensions.pdf\", bbox_inches='tight')\n",
    "f.savefig(\"Variance vs number of PCA dimensions.png\", bbox_inches='tight')"
   ]
  },
  {
   "cell_type": "code",
   "execution_count": null,
   "metadata": {},
   "outputs": [],
   "source": [
    "f = plt.figure()\n",
    "\n",
    "matplotlib.style.use('seaborn')\n",
    "plt.plot(range(1, 201),\n",
    "         pca.explained_variance_ratio_.cumsum(),\n",
    "         'o--',\n",
    "         markersize=3)\n",
    "plt.title('Cumulative Variance vs number of PCA dimensions')\n",
    "plt.xlabel('PCA Dimension Count')\n",
    "plt.ylabel('Cumulative Variance')\n",
    "plt.grid(True)\n",
    "plt.show()\n",
    "\n",
    "f.savefig(\"Cumulative Variance vs number of PCA dimensions.pdf\",\n",
    "          bbox_inches='tight')\n",
    "f.savefig(\"Cumulative Variance vs number of PCA dimensions.png\",\n",
    "          bbox_inches='tight')"
   ]
  },
  {
   "cell_type": "code",
   "execution_count": null,
   "metadata": {},
   "outputs": [],
   "source": [
    "f = plt.figure()\n",
    "\n",
    "matplotlib.style.use('seaborn')\n",
    "plt.plot(pca_dimensions, pca_accuracy, 'o--', markersize=4)\n",
    "plt.title('Effect of PCA dimension vs Classification Accuracy')\n",
    "plt.xlabel('PCA Dimensions')\n",
    "plt.ylabel('Accuracy')\n",
    "plt.grid(True)\n",
    "plt.show()\n",
    "\n",
    "f.savefig(\"Effect of PCA dimension vs Classification Accuracy.pdf\",\n",
    "          bbox_inches='tight')\n",
    "f.savefig(\"Effect of PCA dimension vs Classification Accuracy.png\",\n",
    "          bbox_inches='tight')"
   ]
  },
  {
   "cell_type": "code",
   "execution_count": null,
   "metadata": {},
   "outputs": [],
   "source": [
    "f = plt.figure()\n",
    "\n",
    "matplotlib.style.use('seaborn')\n",
    "plt.plot(pca_dimensions, pca_time, 'o--', markersize=4)\n",
    "plt.title('Effect of PCA dimensions vs Time')\n",
    "plt.xlabel('PCA Dimension Count')\n",
    "plt.ylabel('Time')\n",
    "plt.grid(True)\n",
    "plt.show()\n",
    "\n",
    "f.savefig(\"Effect of PCA dimensions vs Time.pdf\", bbox_inches='tight')\n",
    "f.savefig(\"Effect of PCA dimensions vs Time.png\", bbox_inches='tight')"
   ]
  },
  {
   "cell_type": "code",
   "execution_count": null,
   "metadata": {},
   "outputs": [],
   "source": [
    "num_items = 100000\n",
    "num_dimensions = 100"
   ]
  },
  {
   "cell_type": "code",
   "execution_count": null,
   "metadata": {},
   "outputs": [],
   "source": [
    "dataset = np.random.randn(num_items, num_dimensions)\n",
    "dataset /= np.linalg.norm(dataset, axis=1).reshape(-1, 1)"
   ]
  },
  {
   "cell_type": "code",
   "execution_count": null,
   "metadata": {},
   "outputs": [],
   "source": [
    "randomIndex = random.randint(0, num_items)\n",
    "query = dataset[randomIndex]"
   ]
  },
  {
   "cell_type": "markdown",
   "metadata": {},
   "source": [
    "### Brute force"
   ]
  },
  {
   "cell_type": "code",
   "execution_count": null,
   "metadata": {},
   "outputs": [],
   "source": [
    "# Time the indexing for the brute force algorithm\n",
    "%timeit NearestNeighbors(n_neighbors=5, algorithm='brute', metric='euclidean').fit(dataset)"
   ]
  },
  {
   "cell_type": "code",
   "execution_count": null,
   "metadata": {},
   "outputs": [],
   "source": [
    "# Time the search for the brute force algorithm\n",
    "neighbors = NearestNeighbors(n_neighbors=5,\n",
    "                             algorithm='brute',\n",
    "                             metric='euclidean').fit(dataset)\n",
    "%timeit neighbors.kneighbors([query])"
   ]
  },
  {
   "cell_type": "markdown",
   "metadata": {},
   "source": [
    "### k-d Tree"
   ]
  },
  {
   "cell_type": "code",
   "execution_count": null,
   "metadata": {},
   "outputs": [],
   "source": [
    "# Time the indexing for the k-d tree algorithm\n",
    "%timeit NearestNeighbors(n_neighbors=5, algorithm='kd_tree').fit(dataset)"
   ]
  },
  {
   "cell_type": "code",
   "execution_count": null,
   "metadata": {},
   "outputs": [],
   "source": [
    "# Time the search for the k-d tree algorithm\n",
    "neighbors = NearestNeighbors(n_neighbors=5, algorithm='kd_tree').fit(dataset)\n",
    "%timeit neighbors.kneighbors([query])"
   ]
  },
  {
   "cell_type": "markdown",
   "metadata": {},
   "source": [
    "### Ball Tree"
   ]
  },
  {
   "cell_type": "code",
   "execution_count": null,
   "metadata": {},
   "outputs": [],
   "source": [
    "# Time the indexing for the Ball Tree algorithm\n",
    "%timeit NearestNeighbors(n_neighbors=5, algorithm='ball_tree').fit(dataset)"
   ]
  },
  {
   "cell_type": "code",
   "execution_count": null,
   "metadata": {},
   "outputs": [],
   "source": [
    "# Time the search for the Ball Tree algorithm\n",
    "neighbors = NearestNeighbors(n_neighbors=5, algorithm='ball_tree').fit(dataset)\n",
    "%timeit neighbors.kneighbors([query])"
   ]
  },
  {
   "cell_type": "code",
   "execution_count": null,
   "metadata": {},
   "outputs": [],
   "source": [
    "#!pip3 install annoy"
   ]
  },
  {
   "cell_type": "code",
   "execution_count": null,
   "metadata": {},
   "outputs": [],
   "source": [
    "from annoy import AnnoyIndex"
   ]
  },
  {
   "cell_type": "code",
   "execution_count": null,
   "metadata": {},
   "outputs": [],
   "source": [
    "# Choose a random image to experiment\n",
    "random_image_index = random.randint(0, num_items)\n",
    "# Note: the results may change if the image is changed"
   ]
  },
  {
   "cell_type": "markdown",
   "metadata": {},
   "source": [
    "First, we build a search index with two hyperparameters - the number of dimensions of the dataset, and the number of trees. "
   ]
  },
  {
   "cell_type": "code",
   "execution_count": null,
   "metadata": {},
   "outputs": [],
   "source": [
    "annoy_index = AnnoyIndex(\n",
    "    num_dimensions)  # Length of item vector that will be indexed\n",
    "for i in range(num_items):\n",
    "    annoy_index.add_item(i, dataset[i])\n",
    "annoy_index.build(40)  #40 trees"
   ]
  },
  {
   "cell_type": "markdown",
   "metadata": {},
   "source": [
    "Now let’s find out the time it takes to search the 5 nearest neighbors of one image."
   ]
  },
  {
   "cell_type": "code",
   "execution_count": null,
   "metadata": {},
   "outputs": [],
   "source": [
    "#u = AnnoyIndex(num_dimensions)\n",
    "#Time the search for one image for Annoy\n",
    "%timeit annoy_index.get_nns_by_vector(query, 5, include_distances=True )"
   ]
  },
  {
   "cell_type": "code",
   "execution_count": null,
   "metadata": {},
   "outputs": [],
   "source": [
    "annoy_training_time = []\n",
    "annoy_test_time = []\n",
    "annoy_trees = [\n",
    "    1, 2, 3, 4, 5, 10, 20, 30, 40, 50, 60, 70, 80, 90, 100, 200, 300\n",
    "]\n",
    "for num_trees in annoy_trees:\n",
    "    t = AnnoyIndex(2048)  # Length of item vector that will be indexed\n",
    "    for i in range(num_images):\n",
    "        feature = feature_list[i]\n",
    "        t.add_item(i, feature)\n",
    "    start_time = time.time()\n",
    "    t.build(num_trees)  #50 trees\n",
    "    end_time = time.time()\n",
    "    annoy_training_time.append(end_time - start_time)\n",
    "    start_time = time.time()\n",
    "    indices = t.get_nns_by_vector(feature_list[random_image_index],\n",
    "                                  5,\n",
    "                                  include_distances=True)\n",
    "    end_time = time.time()\n",
    "    annoy_test_time.append(end_time - start_time)\n",
    "    print(\"For number of trees = \", num_trees, \",\\tTime to train = \",\n",
    "          annoy_training_time[-1], \",\\tTime to test = \", annoy_test_time[-1])"
   ]
  },
  {
   "cell_type": "markdown",
   "metadata": {},
   "source": [
    "### Effect of number of trees vs Training time"
   ]
  },
  {
   "cell_type": "code",
   "execution_count": null,
   "metadata": {},
   "outputs": [],
   "source": [
    "plt.plot(annoy_trees, annoy_training_time, 'or--')\n",
    "plt.title('Effect of number of trees vs Training time')\n",
    "plt.xlabel('Number of trees')\n",
    "plt.ylabel('Training Time')\n",
    "plt.grid(True)\n",
    "plt.show()"
   ]
  },
  {
   "cell_type": "markdown",
   "metadata": {},
   "source": [
    "### Effect of number of trees vs Test time"
   ]
  },
  {
   "cell_type": "code",
   "execution_count": null,
   "metadata": {},
   "outputs": [],
   "source": [
    "plt.plot(annoy_trees, annoy_test_time, 'or--')\n",
    "plt.title('Effect of number of trees vs Test time')\n",
    "plt.xlabel('Number of trees')\n",
    "plt.ylabel('Test Time')\n",
    "plt.grid(True)\n",
    "plt.show()"
   ]
  },
  {
   "cell_type": "markdown",
   "metadata": {},
   "source": [
    "### NMS Lib"
   ]
  },
  {
   "cell_type": "code",
   "execution_count": null,
   "metadata": {},
   "outputs": [],
   "source": [
    "import nmslib"
   ]
  },
  {
   "cell_type": "code",
   "execution_count": null,
   "metadata": {},
   "outputs": [],
   "source": [
    "index = nmslib.init(method='hnsw', space='cosinesimil')\n",
    "index.addDataPointBatch(dataset)\n",
    "index.createIndex({'post': 2}, print_progress=True)"
   ]
  },
  {
   "cell_type": "code",
   "execution_count": null,
   "metadata": {},
   "outputs": [],
   "source": [
    "# query for the nearest neighbors of the first datapoint\n",
    "%timeit index.knnQuery(query, k=5)\n",
    "ids, distances = index.knnQuery(query, k=5)"
   ]
  },
  {
   "cell_type": "code",
   "execution_count": null,
   "metadata": {},
   "outputs": [],
   "source": [
    "# Get all nearest neighbors for all the datapoint\n",
    "%timeit index.knnQueryBatch(dataset, k=5, num_threads=16)\n",
    "neighbors = index.knnQueryBatch(dataset, k=5, num_threads=16)"
   ]
  },
  {
   "cell_type": "markdown",
   "metadata": {},
   "source": [
    "### Falconn"
   ]
  },
  {
   "cell_type": "code",
   "execution_count": null,
   "metadata": {},
   "outputs": [],
   "source": [
    "import falconn"
   ]
  },
  {
   "cell_type": "code",
   "execution_count": null,
   "metadata": {},
   "outputs": [],
   "source": [
    "parameters = falconn.LSHConstructionParameters()\n",
    "num_tables = 1\n",
    "parameters.l = num_tables\n",
    "parameters.dimension = num_dimensions\n",
    "parameters.distance_function = falconn.DistanceFunction.EuclideanSquared\n",
    "parameters.lsh_family = falconn.LSHFamily.CrossPolytope\n",
    "parameters.num_rotations = 1\n",
    "parameters.num_setup_threads = 1\n",
    "parameters.storage_hash_table = falconn.StorageHashTable.BitPackedFlatHashTable\n",
    "falconn.compute_number_of_hash_functions(16, parameters)\n",
    "\n",
    "index = falconn.LSHIndex(parameters)\n",
    "%time index.setup(dataset)\n",
    "\n",
    "query_object = index.construct_query_object()\n",
    "num_probes = 1\n",
    "query_object.set_num_probes(num_probes)\n",
    "\n",
    "%timeit query_object.find_k_nearest_neighbors(query, 5)"
   ]
  },
  {
   "cell_type": "code",
   "execution_count": null,
   "metadata": {
    "scrolled": true
   },
   "outputs": [],
   "source": [
    "query = dataset[5000]\n",
    "print(query_object.find_k_nearest_neighbors(query, 5))"
   ]
  }
 ],
 "metadata": {
  "kernelspec": {
   "display_name": "Python 3",
   "language": "python",
   "name": "python3"
  },
  "language_info": {
   "codemirror_mode": {
    "name": "ipython",
    "version": 3
   },
   "file_extension": ".py",
   "mimetype": "text/x-python",
   "name": "python",
   "nbconvert_exporter": "python",
   "pygments_lexer": "ipython3",
   "version": "3.7.6"
  },
  "toc": {
   "base_numbering": 1,
   "nav_menu": {},
   "number_sections": true,
   "sideBar": true,
   "skip_h1_title": false,
   "title_cell": "Table of Contents",
   "title_sidebar": "Contents",
   "toc_cell": false,
   "toc_position": {},
   "toc_section_display": true,
   "toc_window_display": false
  }
 },
 "nbformat": 4,
 "nbformat_minor": 2
}
