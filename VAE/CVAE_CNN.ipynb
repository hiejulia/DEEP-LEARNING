{
  "nbformat": 4,
  "nbformat_minor": 0,
  "metadata": {
    "colab": {
      "name": "CVAE-CNN",
      "provenance": [],
      "collapsed_sections": []
    },
    "kernelspec": {
      "display_name": "Python 3",
      "name": "python3"
    },
    "accelerator": "TPU"
  },
  "cells": [
    {
      "cell_type": "code",
      "metadata": {
        "id": "OQ2YnXbieEeR",
        "outputId": "73d28fdf-daf6-40ab-9d54-b45518d4c9f6",
        "colab": {
          "base_uri": "https://localhost:8080/",
          "height": 34
        }
      },
      "source": [
        "from google.colab import drive\n",
        "drive.mount('/content/gdrive')"
      ],
      "execution_count": 6,
      "outputs": [
        {
          "output_type": "stream",
          "text": [
            "Drive already mounted at /content/gdrive; to attempt to forcibly remount, call drive.mount(\"/content/gdrive\", force_remount=True).\n"
          ],
          "name": "stdout"
        }
      ]
    },
    {
      "cell_type": "code",
      "metadata": {
        "id": "9lgQIgf0eEgK",
        "outputId": "a0efa6ce-3a0e-4614-93d9-1549318e01d2",
        "colab": {
          "base_uri": "https://localhost:8080/",
          "height": 1000
        }
      },
      "source": [
        "!python gdrive/My\\ Drive/Colab\\ Notebooks/cvae-cnn-mnist.py"
      ],
      "execution_count": 7,
      "outputs": [
        {
          "output_type": "stream",
          "text": [
            "2020-10-13 19:53:21.901431: I tensorflow/stream_executor/platform/default/dso_loader.cc:48] Successfully opened dynamic library libcudart.so.10.1\n",
            "2020-10-13 19:53:24.429843: I tensorflow/stream_executor/platform/default/dso_loader.cc:48] Successfully opened dynamic library libcuda.so.1\n",
            "2020-10-13 19:53:24.439429: E tensorflow/stream_executor/cuda/cuda_driver.cc:314] failed call to cuInit: CUDA_ERROR_NO_DEVICE: no CUDA-capable device is detected\n",
            "2020-10-13 19:53:24.439483: I tensorflow/stream_executor/cuda/cuda_diagnostics.cc:156] kernel driver does not appear to be running on this host (aa5f376c2c9a): /proc/driver/nvidia/version does not exist\n",
            "2020-10-13 19:53:24.445497: I tensorflow/core/platform/profile_utils/cpu_utils.cc:104] CPU Frequency: 2300000000 Hz\n",
            "2020-10-13 19:53:24.445755: I tensorflow/compiler/xla/service/service.cc:168] XLA service 0x2d0c840 initialized for platform Host (this does not guarantee that XLA will be used). Devices:\n",
            "2020-10-13 19:53:24.445791: I tensorflow/compiler/xla/service/service.cc:176]   StreamExecutor device (0): Host, Default Version\n",
            "Model: \"encoder\"\n",
            "__________________________________________________________________________________________________\n",
            "Layer (type)                    Output Shape         Param #     Connected to                     \n",
            "==================================================================================================\n",
            "class_labels (InputLayer)       [(None, 10)]         0                                            \n",
            "__________________________________________________________________________________________________\n",
            "dense (Dense)                   (None, 784)          8624        class_labels[0][0]               \n",
            "__________________________________________________________________________________________________\n",
            "encoder_input (InputLayer)      [(None, 28, 28, 1)]  0                                            \n",
            "__________________________________________________________________________________________________\n",
            "reshape (Reshape)               (None, 28, 28, 1)    0           dense[0][0]                      \n",
            "__________________________________________________________________________________________________\n",
            "concatenate (Concatenate)       (None, 28, 28, 2)    0           encoder_input[0][0]              \n",
            "                                                                 reshape[0][0]                    \n",
            "__________________________________________________________________________________________________\n",
            "conv2d (Conv2D)                 (None, 14, 14, 32)   608         concatenate[0][0]                \n",
            "__________________________________________________________________________________________________\n",
            "conv2d_1 (Conv2D)               (None, 7, 7, 64)     18496       conv2d[0][0]                     \n",
            "__________________________________________________________________________________________________\n",
            "flatten (Flatten)               (None, 3136)         0           conv2d_1[0][0]                   \n",
            "__________________________________________________________________________________________________\n",
            "dense_1 (Dense)                 (None, 16)           50192       flatten[0][0]                    \n",
            "__________________________________________________________________________________________________\n",
            "z_mean (Dense)                  (None, 2)            34          dense_1[0][0]                    \n",
            "__________________________________________________________________________________________________\n",
            "z_log_var (Dense)               (None, 2)            34          dense_1[0][0]                    \n",
            "__________________________________________________________________________________________________\n",
            "z (Lambda)                      (None, 2)            0           z_mean[0][0]                     \n",
            "                                                                 z_log_var[0][0]                  \n",
            "==================================================================================================\n",
            "Total params: 77,988\n",
            "Trainable params: 77,988\n",
            "Non-trainable params: 0\n",
            "__________________________________________________________________________________________________\n",
            "Model: \"decoder\"\n",
            "__________________________________________________________________________________________________\n",
            "Layer (type)                    Output Shape         Param #     Connected to                     \n",
            "==================================================================================================\n",
            "z_sampling (InputLayer)         [(None, 2)]          0                                            \n",
            "__________________________________________________________________________________________________\n",
            "class_labels (InputLayer)       [(None, 10)]         0                                            \n",
            "__________________________________________________________________________________________________\n",
            "concatenate_1 (Concatenate)     (None, 12)           0           z_sampling[0][0]                 \n",
            "                                                                 class_labels[0][0]               \n",
            "__________________________________________________________________________________________________\n",
            "dense_2 (Dense)                 (None, 3136)         40768       concatenate_1[0][0]              \n",
            "__________________________________________________________________________________________________\n",
            "reshape_1 (Reshape)             (None, 7, 7, 64)     0           dense_2[0][0]                    \n",
            "__________________________________________________________________________________________________\n",
            "conv2d_transpose (Conv2DTranspo (None, 14, 14, 64)   36928       reshape_1[0][0]                  \n",
            "__________________________________________________________________________________________________\n",
            "conv2d_transpose_1 (Conv2DTrans (None, 28, 28, 32)   18464       conv2d_transpose[0][0]           \n",
            "__________________________________________________________________________________________________\n",
            "decoder_output (Conv2DTranspose (None, 28, 28, 1)    289         conv2d_transpose_1[0][0]         \n",
            "==================================================================================================\n",
            "Total params: 96,449\n",
            "Trainable params: 96,449\n",
            "Non-trainable params: 0\n",
            "__________________________________________________________________________________________________\n",
            "CVAE\n",
            "Model: \"cvae\"\n",
            "__________________________________________________________________________________________________\n",
            "Layer (type)                    Output Shape         Param #     Connected to                     \n",
            "==================================================================================================\n",
            "encoder_input (InputLayer)      [(None, 28, 28, 1)]  0                                            \n",
            "__________________________________________________________________________________________________\n",
            "class_labels (InputLayer)       [(None, 10)]         0                                            \n",
            "__________________________________________________________________________________________________\n",
            "encoder (Functional)            [(None, 2), (None, 2 77988       encoder_input[0][0]              \n",
            "                                                                 class_labels[0][0]               \n",
            "__________________________________________________________________________________________________\n",
            "decoder (Functional)            (None, 28, 28, 1)    96449       encoder[0][2]                    \n",
            "                                                                 class_labels[0][0]               \n",
            "__________________________________________________________________________________________________\n",
            "dense (Dense)                   (None, 784)          8624        class_labels[0][0]               \n",
            "__________________________________________________________________________________________________\n",
            "reshape (Reshape)               (None, 28, 28, 1)    0           dense[0][0]                      \n",
            "__________________________________________________________________________________________________\n",
            "concatenate (Concatenate)       (None, 28, 28, 2)    0           encoder_input[0][0]              \n",
            "                                                                 reshape[0][0]                    \n",
            "__________________________________________________________________________________________________\n",
            "conv2d (Conv2D)                 (None, 14, 14, 32)   608         concatenate[0][0]                \n",
            "__________________________________________________________________________________________________\n",
            "conv2d_1 (Conv2D)               (None, 7, 7, 64)     18496       conv2d[0][0]                     \n",
            "__________________________________________________________________________________________________\n",
            "flatten (Flatten)               (None, 3136)         0           conv2d_1[0][0]                   \n",
            "__________________________________________________________________________________________________\n",
            "dense_1 (Dense)                 (None, 16)           50192       flatten[0][0]                    \n",
            "__________________________________________________________________________________________________\n",
            "z_log_var (Dense)               (None, 2)            34          dense_1[0][0]                    \n",
            "__________________________________________________________________________________________________\n",
            "z_mean (Dense)                  (None, 2)            34          dense_1[0][0]                    \n",
            "__________________________________________________________________________________________________\n",
            "tf_op_layer_AddV2 (TensorFlowOp [(None, 2)]          0           z_log_var[0][0]                  \n",
            "__________________________________________________________________________________________________\n",
            "tf_op_layer_Square (TensorFlowO [(None, 2)]          0           z_mean[0][0]                     \n",
            "__________________________________________________________________________________________________\n",
            "tf_op_layer_Reshape_1 (TensorFl [(None,)]            0           decoder[0][0]                    \n",
            "__________________________________________________________________________________________________\n",
            "tf_op_layer_Reshape (TensorFlow [(None,)]            0           encoder_input[0][0]              \n",
            "__________________________________________________________________________________________________\n",
            "tf_op_layer_Sub (TensorFlowOpLa [(None, 2)]          0           tf_op_layer_AddV2[0][0]          \n",
            "                                                                 tf_op_layer_Square[0][0]         \n",
            "__________________________________________________________________________________________________\n",
            "tf_op_layer_Exp (TensorFlowOpLa [(None, 2)]          0           z_log_var[0][0]                  \n",
            "__________________________________________________________________________________________________\n",
            "tf_op_layer_SquaredDifference ( [(None,)]            0           tf_op_layer_Reshape_1[0][0]      \n",
            "                                                                 tf_op_layer_Reshape[0][0]        \n",
            "__________________________________________________________________________________________________\n",
            "tf_op_layer_Sub_1 (TensorFlowOp [(None, 2)]          0           tf_op_layer_Sub[0][0]            \n",
            "                                                                 tf_op_layer_Exp[0][0]            \n",
            "__________________________________________________________________________________________________\n",
            "tf_op_layer_Mean (TensorFlowOpL [()]                 0           tf_op_layer_SquaredDifference[0][\n",
            "__________________________________________________________________________________________________\n",
            "tf_op_layer_Sum (TensorFlowOpLa [(None,)]            0           tf_op_layer_Sub_1[0][0]          \n",
            "__________________________________________________________________________________________________\n",
            "tf_op_layer_Mul (TensorFlowOpLa [()]                 0           tf_op_layer_Mean[0][0]           \n",
            "__________________________________________________________________________________________________\n",
            "tf_op_layer_Mul_1 (TensorFlowOp [(None,)]            0           tf_op_layer_Sum[0][0]            \n",
            "__________________________________________________________________________________________________\n",
            "tf_op_layer_AddV2_1 (TensorFlow [(None,)]            0           tf_op_layer_Mul[0][0]            \n",
            "                                                                 tf_op_layer_Mul_1[0][0]          \n",
            "__________________________________________________________________________________________________\n",
            "tf_op_layer_Mean_1 (TensorFlowO [()]                 0           tf_op_layer_AddV2_1[0][0]        \n",
            "__________________________________________________________________________________________________\n",
            "add_loss (AddLoss)              ()                   0           tf_op_layer_Mean_1[0][0]         \n",
            "==================================================================================================\n",
            "Total params: 174,437\n",
            "Trainable params: 174,437\n",
            "Non-trainable params: 0\n",
            "__________________________________________________________________________________________________\n",
            "Epoch 1/10\n",
            "469/469 [==============================] - 108s 230ms/step - loss: 42.2176 - val_loss: 34.8180\n",
            "Epoch 2/10\n",
            "469/469 [==============================] - 108s 230ms/step - loss: 33.2719 - val_loss: 33.5055\n",
            "Epoch 3/10\n",
            "469/469 [==============================] - 108s 229ms/step - loss: 31.9346 - val_loss: 31.3987\n",
            "Epoch 4/10\n",
            "469/469 [==============================] - 107s 229ms/step - loss: 31.2864 - val_loss: 31.5235\n",
            "Epoch 5/10\n",
            "469/469 [==============================] - 108s 230ms/step - loss: 30.8964 - val_loss: 30.5707\n",
            "Epoch 6/10\n",
            "469/469 [==============================] - 110s 234ms/step - loss: 30.6539 - val_loss: 31.0979\n",
            "Epoch 7/10\n",
            "469/469 [==============================] - 109s 231ms/step - loss: 30.4814 - val_loss: 30.4027\n",
            "Epoch 8/10\n",
            "469/469 [==============================] - 108s 229ms/step - loss: 30.3399 - val_loss: 30.3273\n",
            "Epoch 9/10\n",
            "469/469 [==============================] - 107s 228ms/step - loss: 30.2347 - val_loss: 30.2524\n",
            "Epoch 10/10\n",
            "469/469 [==============================] - 107s 228ms/step - loss: 30.1361 - val_loss: 30.1781\n",
            "CVAE for digit 4\n",
            "<Figure size 1200x1000 with 1 Axes>\n",
            "<Figure size 1000x1000 with 1 Axes>\n"
          ],
          "name": "stdout"
        }
      ]
    },
    {
      "cell_type": "code",
      "metadata": {
        "id": "FToFeug2eEmb"
      },
      "source": [
        ""
      ],
      "execution_count": null,
      "outputs": []
    },
    {
      "cell_type": "code",
      "metadata": {
        "id": "KW0BB3CHeEvD"
      },
      "source": [
        ""
      ],
      "execution_count": null,
      "outputs": []
    },
    {
      "cell_type": "code",
      "metadata": {
        "id": "bGNYxNcfeExf"
      },
      "source": [
        ""
      ],
      "execution_count": null,
      "outputs": []
    },
    {
      "cell_type": "code",
      "metadata": {
        "id": "BaIsrTMleEtv"
      },
      "source": [
        ""
      ],
      "execution_count": null,
      "outputs": []
    },
    {
      "cell_type": "code",
      "metadata": {
        "id": "BpOILb9ueEsE"
      },
      "source": [
        ""
      ],
      "execution_count": null,
      "outputs": []
    },
    {
      "cell_type": "code",
      "metadata": {
        "id": "AUXQpA4peEqk"
      },
      "source": [
        ""
      ],
      "execution_count": null,
      "outputs": []
    },
    {
      "cell_type": "code",
      "metadata": {
        "id": "JaxMcWMVeEk4"
      },
      "source": [
        ""
      ],
      "execution_count": null,
      "outputs": []
    },
    {
      "cell_type": "code",
      "metadata": {
        "id": "XM-BTjFyeEji"
      },
      "source": [
        ""
      ],
      "execution_count": null,
      "outputs": []
    }
  ]
}