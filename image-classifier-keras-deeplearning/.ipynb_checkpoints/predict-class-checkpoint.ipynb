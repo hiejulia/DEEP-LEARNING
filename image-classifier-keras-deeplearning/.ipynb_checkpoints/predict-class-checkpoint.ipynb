{
 "cells": [
  {
   "cell_type": "code",
   "execution_count": null,
   "metadata": {},
   "outputs": [],
   "source": [
    "try:\n",
    "  import google.colab\n",
    "  IS_COLAB_ENV = True\n",
    "except:\n",
    "  IS_COLAB_ENV = False\n",
    "IS_COLAB_ENV"
   ]
  },
  {
   "cell_type": "code",
   "execution_count": null,
   "metadata": {},
   "outputs": [],
   "source": [
    "if IS_COLAB_ENV:\n",
    "    !pip install tensorflow==2.0.0"
   ]
  },
  {
   "cell_type": "code",
   "execution_count": null,
   "metadata": {},
   "outputs": [],
   "source": [
    "import tensorflow as tf\n",
    "from tensorflow.keras.applications.resnet50 import preprocess_input, decode_predictions\n",
    "from tensorflow.keras.preprocessing import image\n",
    "import numpy as np\n",
    "import matplotlib.pyplot as plt"
   ]
  },
  {
   "cell_type": "code",
   "execution_count": null,
   "metadata": {},
   "outputs": [],
   "source": [
    "IMG_PATH = '../../sample-images/cat.jpg'\n",
    "if IS_COLAB_ENV:\n",
    "  !curl https://i.imgur.com/PdLZbpj.png --output cat.jpg\n",
    "  IMG_PATH = 'cat.jpg'"
   ]
  },
  {
   "cell_type": "code",
   "execution_count": null,
   "metadata": {},
   "outputs": [],
   "source": [
    "img = image.load_img(IMG_PATH, target_size=(224, 224))\n",
    "plt.imshow(img)\n",
    "plt.show()"
   ]
  },
  {
   "cell_type": "code",
   "execution_count": null,
   "metadata": {},
   "outputs": [],
   "source": [
    "model = tf.keras.applications.resnet50.ResNet50()"
   ]
  },
  {
   "cell_type": "code",
   "execution_count": null,
   "metadata": {},
   "outputs": [],
   "source": [
    "def classify(img_path):\n",
    "    img = image.load_img(img_path, target_size=(224, 224))\n",
    "    model = tf.keras.applications.resnet50.ResNet50()\n",
    "    img_array = image.img_to_array(img)\n",
    "    img_batch = np.expand_dims(img_array, axis=0)\n",
    "    img_preprocessed = preprocess_input(img_batch)\n",
    "    prediction = model.predict(img_preprocessed)\n",
    "    print(decode_predictions(prediction, top=3)[0])"
   ]
  },
  {
   "cell_type": "code",
   "execution_count": null,
   "metadata": {},
   "outputs": [],
   "source": [
    "classify(IMG_PATH)"
   ]
  }
 ],
 "metadata": {
  "kernelspec": {
   "display_name": "Python 3",
   "language": "python",
   "name": "python3"
  },
  "language_info": {
   "codemirror_mode": {
    "name": "ipython",
    "version": 3
   },
   "file_extension": ".py",
   "mimetype": "text/x-python",
   "name": "python",
   "nbconvert_exporter": "python",
   "pygments_lexer": "ipython3",
   "version": "3.7.6"
  }
 },
 "nbformat": 4,
 "nbformat_minor": 4
}
